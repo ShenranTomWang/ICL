{
 "cells": [
  {
   "cell_type": "code",
   "execution_count": 1,
   "metadata": {
    "vscode": {
     "languageId": "plaintext"
    }
   },
   "outputs": [],
   "source": [
    "from interpretability import HymbaOperator\n",
    "import torch"
   ]
  },
  {
   "cell_type": "code",
   "execution_count": 2,
   "metadata": {},
   "outputs": [
    {
     "name": "stderr",
     "output_type": "stream",
     "text": [
      "HymbaForCausalLM has generative capabilities, as `prepare_inputs_for_generation` is explicitly overwritten. However, it doesn't directly inherit from `GenerationMixin`. From 👉v4.50👈 onwards, `PreTrainedModel` will NOT inherit from `GenerationMixin`, and this model will lose the ability to call `generate` and other related functions.\n",
      "  - If you're using `trust_remote_code=True`, you can get rid of this warning by loading the model with an auto class. See https://huggingface.co/docs/transformers/en/model_doc/auto#auto-classes\n",
      "  - If you are the owner of the model architecture code, please modify your model class such that it inherits from `GenerationMixin` (after `PreTrainedModel`, otherwise you'll get an exception).\n",
      "  - If you are not the owner of the model architecture class, please contact the model code owner to update it.\n"
     ]
    }
   ],
   "source": [
    "operator = HymbaOperator(\"nvidia/Hymba-1.5B-Base\", torch.device(\"cuda\"), torch.bfloat16)"
   ]
  },
  {
   "cell_type": "code",
   "execution_count": 7,
   "metadata": {},
   "outputs": [],
   "source": [
    "QK, attn, scan = operator.load_attention_outputs(\"out/Hymba-1.5B-Base/tweet_eval-hate/13\", \"demo\", 0)\n",
    "_, attn_mean, scan_mean = operator.load_attention_outputs(\"out/Hymba-1.5B-Base/tweet_eval-hate/13\", \"demo\", 0, \"mean\")"
   ]
  },
  {
   "cell_type": "code",
   "execution_count": 8,
   "metadata": {},
   "outputs": [
    {
     "name": "stdout",
     "output_type": "stream",
     "text": [
      "32\n",
      "torch.Size([1, 25, 309, 309])\n",
      "32\n",
      "torch.Size([1, 309, 3200])\n",
      "32\n",
      "torch.Size([1, 309, 3200])\n"
     ]
    }
   ],
   "source": [
    "print(len(QK))\n",
    "print(QK[0].shape)\n",
    "print(len(attn))\n",
    "print(attn[0].shape)\n",
    "print(len(scan))\n",
    "print(scan[0].shape)"
   ]
  },
  {
   "cell_type": "code",
   "execution_count": 9,
   "metadata": {},
   "outputs": [
    {
     "name": "stdout",
     "output_type": "stream",
     "text": [
      "32\n",
      "torch.Size([1, 1, 3200])\n",
      "32\n",
      "torch.Size([1, 1, 3200])\n"
     ]
    }
   ],
   "source": [
    "print(len(attn_mean))\n",
    "print(attn_mean[0].shape)\n",
    "print(len(scan_mean))\n",
    "print(scan_mean[0].shape)"
   ]
  },
  {
   "cell_type": "code",
   "execution_count": null,
   "metadata": {},
   "outputs": [],
   "source": []
  }
 ],
 "metadata": {
  "kernelspec": {
   "display_name": "Python 3 (ipykernel)",
   "language": "python",
   "name": "python3"
  },
  "language_info": {
   "codemirror_mode": {
    "name": "ipython",
    "version": 3
   },
   "file_extension": ".py",
   "mimetype": "text/x-python",
   "name": "python",
   "nbconvert_exporter": "python",
   "pygments_lexer": "ipython3",
   "version": "3.12.0"
  }
 },
 "nbformat": 4,
 "nbformat_minor": 4
}
